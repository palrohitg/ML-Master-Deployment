{
 "cells": [
  {
   "cell_type": "code",
   "execution_count": 70,
   "metadata": {},
   "outputs": [
    {
     "data": {
      "text/plain": [
       "array([[  1,   1,   1,   1],\n",
       "       [  8,   4,   2,   1],\n",
       "       [ 27,   9,   3,   1],\n",
       "       [ 64,  16,   4,   1],\n",
       "       [125,  25,   5,   1]])"
      ]
     },
     "execution_count": 70,
     "metadata": {},
     "output_type": "execute_result"
    }
   ],
   "source": [
    "# Write a function so that the columns of the output matrix are powers of the input vector\n",
    "import numpy as np\n",
    "x = np.array([1,2,3,4,5])\n",
    "N = 4\n",
    "np.vander(x, N)"
   ]
  },
  {
   "cell_type": "code",
   "execution_count": 69,
   "metadata": {},
   "outputs": [
    {
     "data": {
      "text/plain": [
       "[5.0,\n",
       " 4.666666666666667,\n",
       " 5.666666666666667,\n",
       " 6.666666666666667,\n",
       " 9.666666666666666,\n",
       " 28.666666666666668,\n",
       " 49.333333333333336,\n",
       " 72.66666666666667,\n",
       " 84.0,\n",
       " 93.33333333333333,\n",
       " 116.33333333333333]"
      ]
     },
     "execution_count": 69,
     "metadata": {},
     "output_type": "execute_result"
    }
   ],
   "source": [
    "# Write a function to find moving average in an array over a window:\n",
    "# Test it over [3, 5, 7, 2, 8, 10, 11, 65, 72, 81, 99, 100, 150] and window of 3.\n",
    "\n",
    "def window_problem(n , k) :\n",
    "    window = k;\n",
    "    result = []\n",
    "    arr = np.array(n)\n",
    "    num = arr.size\n",
    "    for i in range(num - k + 1) :\n",
    "        sums=0\n",
    "        average=0\n",
    "        for j in range(i,k+i) :\n",
    "            sums = sums + arr[j]\n",
    "        average =  sums/window\n",
    "        result.append(average)\n",
    "    return result\n",
    "\n",
    "n = [3, 5, 7, 2, 8, 10, 11, 65, 72, 81, 99, 100, 150]\n",
    "k = 3\n",
    "window_problem(n,k)"
   ]
  },
  {
   "cell_type": "code",
   "execution_count": 71,
   "metadata": {},
   "outputs": [
    {
     "name": "stdout",
     "output_type": "stream",
     "text": [
      "[  5.           4.66666667   5.66666667   6.66666667   9.66666667\n",
      "  28.66666667  49.33333333  72.66666667  84.          93.33333333\n",
      " 116.33333333]\n"
     ]
    }
   ],
   "source": [
    "#  Built in approach\n",
    "def moving_average(values, windows) :\n",
    "    weights = np.repeat(1.0,windows)/windows\n",
    "    smas = np.convolve(values, weights,'valid')\n",
    "    return smas\n",
    "print(moving_average(n,k))"
   ]
  },
  {
   "cell_type": "code",
   "execution_count": null,
   "metadata": {},
   "outputs": [],
   "source": []
  }
 ],
 "metadata": {
  "kernelspec": {
   "display_name": "Python 3",
   "language": "python",
   "name": "python3"
  },
  "language_info": {
   "codemirror_mode": {
    "name": "ipython",
    "version": 3
   },
   "file_extension": ".py",
   "mimetype": "text/x-python",
   "name": "python",
   "nbconvert_exporter": "python",
   "pygments_lexer": "ipython3",
   "version": "3.6.10"
  }
 },
 "nbformat": 4,
 "nbformat_minor": 4
}
