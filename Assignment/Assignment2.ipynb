{
 "cells": [
  {
   "cell_type": "markdown",
   "metadata": {},
   "source": [
    "## Map, Reduce , Filter and OOP Concepts\n",
    "## Assignment2"
   ]
  },
  {
   "cell_type": "markdown",
   "metadata": {},
   "source": [
    "## Task 1"
   ]
  },
  {
   "cell_type": "code",
   "execution_count": 76,
   "metadata": {},
   "outputs": [
    {
     "name": "stdout",
     "output_type": "stream",
     "text": [
      "24\n"
     ]
    }
   ],
   "source": [
    "# reduce of python --> return the single value based on some condition\n",
    "from functools import reduce\n",
    "lst = [4,3,2,1]\n",
    "print(reduce(lambda x,y : x*y ,lst))"
   ]
  },
  {
   "cell_type": "code",
   "execution_count": 77,
   "metadata": {},
   "outputs": [],
   "source": [
    "# 1.1\n",
    "def myreduce(lst) :\n",
    "    mul = lst[0]\n",
    "    for i in range(1,len(lst)) :\n",
    "        mul = mul * lst[i]\n",
    "    return mul"
   ]
  },
  {
   "cell_type": "code",
   "execution_count": 78,
   "metadata": {},
   "outputs": [
    {
     "data": {
      "text/plain": [
       "24"
      ]
     },
     "execution_count": 78,
     "metadata": {},
     "output_type": "execute_result"
    }
   ],
   "source": [
    "myreduce(lst)"
   ]
  },
  {
   "cell_type": "code",
   "execution_count": 79,
   "metadata": {},
   "outputs": [
    {
     "data": {
      "text/plain": [
       "[4, 3]"
      ]
     },
     "execution_count": 79,
     "metadata": {},
     "output_type": "execute_result"
    }
   ],
   "source": [
    "#filter of python --> filter out the contents based on the some condition\n",
    "list(filter(lambda x: x>2 , lst))"
   ]
  },
  {
   "cell_type": "code",
   "execution_count": 80,
   "metadata": {},
   "outputs": [],
   "source": [
    "# 1.2\n",
    "def myfilter(lst) :\n",
    "    new_list = [x for x in lst if x>2]\n",
    "    return new_list"
   ]
  },
  {
   "cell_type": "code",
   "execution_count": 81,
   "metadata": {},
   "outputs": [
    {
     "data": {
      "text/plain": [
       "[4, 3]"
      ]
     },
     "execution_count": 81,
     "metadata": {},
     "output_type": "execute_result"
    }
   ],
   "source": [
    "myfilter(lst)"
   ]
  },
  {
   "cell_type": "markdown",
   "metadata": {},
   "source": [
    "## List Comprehension "
   ]
  },
  {
   "cell_type": "code",
   "execution_count": 83,
   "metadata": {},
   "outputs": [
    {
     "data": {
      "text/plain": [
       "['A', 'C', 'A', 'D', 'G', 'I', 'L', 'D']"
      ]
     },
     "execution_count": 83,
     "metadata": {},
     "output_type": "execute_result"
    }
   ],
   "source": [
    "# 2.\n",
    "# 0.\n",
    "word = \"ACADGILD\"\n",
    "[alphabet for alphabet in word]\n"
   ]
  },
  {
   "cell_type": "code",
   "execution_count": 84,
   "metadata": {},
   "outputs": [
    {
     "data": {
      "text/plain": [
       "['x', 'y', 'z', 'xx', 'yy', 'zz', 'xxx', 'yyy', 'zzz', 'xxxx', 'yyyy', 'zzzz']"
      ]
     },
     "execution_count": 84,
     "metadata": {},
     "output_type": "execute_result"
    }
   ],
   "source": [
    "# 1.\n",
    "alphabet = ['x','y','z'] \n",
    "[item* i for i in range(1,5) for item in alphabet]"
   ]
  },
  {
   "cell_type": "code",
   "execution_count": 85,
   "metadata": {},
   "outputs": [
    {
     "data": {
      "text/plain": [
       "['x', 'xx', 'xxx', 'xxxx', 'y', 'yy', 'yyy', 'yyyy', 'z', 'zz', 'zzz', 'zzzz']"
      ]
     },
     "execution_count": 85,
     "metadata": {},
     "output_type": "execute_result"
    }
   ],
   "source": [
    "# 2.\n",
    "[item*i for item in alphabet for i in range(1,5)]"
   ]
  },
  {
   "cell_type": "code",
   "execution_count": 86,
   "metadata": {},
   "outputs": [
    {
     "data": {
      "text/plain": [
       "[[2], [3], [4], [3], [4], [5], [4], [5], [6]]"
      ]
     },
     "execution_count": 86,
     "metadata": {},
     "output_type": "execute_result"
    }
   ],
   "source": [
    "# 3.\n",
    "new_list =  [[x+y] for x in range(2,5) for y in range(3)]\n",
    "new_list"
   ]
  },
  {
   "cell_type": "code",
   "execution_count": 87,
   "metadata": {},
   "outputs": [
    {
     "data": {
      "text/plain": [
       "[[2, 3, 4, 5], [3, 4, 5, 6], [4, 5, 6, 7], [5, 6, 7, 8]]"
      ]
     },
     "execution_count": 87,
     "metadata": {},
     "output_type": "execute_result"
    }
   ],
   "source": [
    "# 4. \n",
    "[[i+j for j in range(4)]for i in range(2,6)]"
   ]
  },
  {
   "cell_type": "code",
   "execution_count": 88,
   "metadata": {},
   "outputs": [
    {
     "data": {
      "text/plain": [
       "[(1, 1), (1, 2), (1, 3), (2, 1), (2, 2), (2, 3), (3, 1), (3, 2), (3, 3)]"
      ]
     },
     "execution_count": 88,
     "metadata": {},
     "output_type": "execute_result"
    }
   ],
   "source": [
    "# 5.\n",
    "[(i,j) for i in range(1,4) for j in range(1,4)]"
   ]
  },
  {
   "cell_type": "markdown",
   "metadata": {},
   "source": [
    "## 3\n",
    "#### Implement a function longestWord() that takes a list of words and returns the longest one."
   ]
  },
  {
   "cell_type": "code",
   "execution_count": 89,
   "metadata": {},
   "outputs": [],
   "source": [
    "# 3.\n",
    "def longestWord(n) :\n",
    "    word_list = []\n",
    "    max_len = 0\n",
    "    word = \"\"\n",
    "    #loops take the inputs\n",
    "    for i in range(n) :\n",
    "        word_list.append(input(\"enter the word : \"))\n",
    "    for items in word_list :\n",
    "        if(len(items) > max_len) :\n",
    "            max_len = len(items)\n",
    "            word = items\n",
    "    return word"
   ]
  },
  {
   "cell_type": "code",
   "execution_count": 90,
   "metadata": {},
   "outputs": [
    {
     "name": "stdout",
     "output_type": "stream",
     "text": [
      "enter the word : machine learning\n",
      "enter the word : data science\n",
      "enter the word : tensorflow\n",
      "enter the word : deep learning\n",
      "enter the word : Ineuron\n"
     ]
    },
    {
     "data": {
      "text/plain": [
       "'machine learning'"
      ]
     },
     "execution_count": 90,
     "metadata": {},
     "output_type": "execute_result"
    }
   ],
   "source": [
    "longestWord(5)"
   ]
  },
  {
   "cell_type": "markdown",
   "metadata": {},
   "source": [
    "## Task 2"
   ]
  },
  {
   "cell_type": "code",
   "execution_count": 16,
   "metadata": {},
   "outputs": [],
   "source": [
    "# 1.1 Area of triangle using the class concepts\n",
    "\n",
    "class BaseClass :\n",
    "    def __init__(self,no_of_sides) :\n",
    "        self.sides = 0\n",
    "        self.no_of_sides = no_of_sides\n",
    "        \n",
    "    def inputSides(self) :\n",
    "        self.sides = [float(input(\"Enter the sides : \"))for i in range(self.no_of_sides)]\n",
    "    \n",
    "    def displaySides(self):\n",
    "        for i in range(self.no_of_sides) :\n",
    "            print(self.sides[i])\n",
    "\n",
    "class Traingle(BaseClass) :\n",
    "    def __init__(self) :\n",
    "        super().__init__(3) #Overriding the Base class methods by replacing with their own init method\n",
    "     \n",
    "    def findArea(self) :\n",
    "        a,b,c = self.sides\n",
    "        s = (a+b+c)/2 \n",
    "        area = (s*(s-a)*(s-b)*(s-c)) ** 0.5\n",
    "        print(\"Area of triangle is %0.2f\" %area)\n",
    "\n",
    "    "
   ]
  },
  {
   "cell_type": "code",
   "execution_count": 17,
   "metadata": {},
   "outputs": [
    {
     "name": "stdout",
     "output_type": "stream",
     "text": [
      "Enter the sides : 11\n",
      "Enter the sides : 11\n",
      "Enter the sides : 11\n",
      "11.0\n",
      "11.0\n",
      "11.0\n",
      "Area of triangle is 52.39\n"
     ]
    }
   ],
   "source": [
    "tri = Traingle()\n",
    "tri.inputSides()\n",
    "tri.displaySides()\n",
    "tri.findArea()"
   ]
  },
  {
   "cell_type": "code",
   "execution_count": 29,
   "metadata": {},
   "outputs": [],
   "source": [
    "#1.2 filter_some_words means return that word which len is greater than n\n",
    "def filterLongWord(lst, n) :\n",
    "    new_list = [] \n",
    "    for item in lst :\n",
    "        if(len(item) > n) :\n",
    "            new_list.append(item)\n",
    "    return new_list  \n",
    "\n",
    "## Another ways of doing this because here I have to filter the data items based on some condition\n",
    "def myfilterLongestWord(lst,n) :\n",
    "    new_list = [x for x in lst if len(x)>n]\n",
    "    return new_list"
   ]
  },
  {
   "cell_type": "code",
   "execution_count": 33,
   "metadata": {},
   "outputs": [
    {
     "data": {
      "text/plain": [
       "['machine learning', 'tensorflow', 'deep learning']"
      ]
     },
     "execution_count": 33,
     "metadata": {},
     "output_type": "execute_result"
    }
   ],
   "source": [
    "lst = [\"machine learning\", \"web\", \"tensorflow\",\"deep learning\"]\n",
    "n = 4 \n",
    "filterLongWord(lst,n)"
   ]
  },
  {
   "cell_type": "code",
   "execution_count": 37,
   "metadata": {},
   "outputs": [],
   "source": [
    "# 2.1 Function to maps the corresponding word len to the integer value\n",
    "def myMap(lst) :\n",
    "    new_list= [len(item) for item in lst] #Also we can implement using the map() function only\n",
    "    return new_list"
   ]
  },
  {
   "cell_type": "code",
   "execution_count": 38,
   "metadata": {},
   "outputs": [
    {
     "data": {
      "text/plain": [
       "[16, 3, 10, 13]"
      ]
     },
     "execution_count": 38,
     "metadata": {},
     "output_type": "execute_result"
    }
   ],
   "source": [
    "myMap(lst)"
   ]
  },
  {
   "cell_type": "code",
   "execution_count": 68,
   "metadata": {},
   "outputs": [],
   "source": [
    "# 2.2  Return True if Vowel Otherwise false and also the constraints is length of each item is only 1\n",
    "# Function will take only one character and find out if it is a vowel or not\n",
    "\n",
    "vowels = ['a', 'e', 'i', 'o', 'u']\n",
    "def checkVowel(character) :\n",
    "    for item in vowels :\n",
    "        if(character == item) :\n",
    "            return True\n",
    "    else :\n",
    "        return False"
   ]
  },
  {
   "cell_type": "code",
   "execution_count": 73,
   "metadata": {},
   "outputs": [
    {
     "name": "stdout",
     "output_type": "stream",
     "text": [
      "Enter a character to check : o\n"
     ]
    },
    {
     "data": {
      "text/plain": [
       "True"
      ]
     },
     "execution_count": 73,
     "metadata": {},
     "output_type": "execute_result"
    }
   ],
   "source": [
    "char = input(\"Enter a character to check : \")\n",
    "checkVowel(char)"
   ]
  }
 ],
 "metadata": {
  "kernelspec": {
   "display_name": "Python 3",
   "language": "python",
   "name": "python3"
  },
  "language_info": {
   "codemirror_mode": {
    "name": "ipython",
    "version": 3
   },
   "file_extension": ".py",
   "mimetype": "text/x-python",
   "name": "python",
   "nbconvert_exporter": "python",
   "pygments_lexer": "ipython3",
   "version": "3.6.10"
  }
 },
 "nbformat": 4,
 "nbformat_minor": 4
}
